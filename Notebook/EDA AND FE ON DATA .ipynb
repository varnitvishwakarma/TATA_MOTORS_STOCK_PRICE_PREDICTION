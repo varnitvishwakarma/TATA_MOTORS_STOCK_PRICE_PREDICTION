{
 "cells": [
  {
   "cell_type": "code",
   "execution_count": 1,
   "metadata": {},
   "outputs": [],
   "source": [
    "import pandas as pd"
   ]
  },
  {
   "cell_type": "code",
   "execution_count": 3,
   "metadata": {},
   "outputs": [],
   "source": [
    "bse=pd.read_csv('E:\\ML PROJECTS\\TATA MOTORS PRICE PREDICTION\\Dataset\\TATAMOTORS_BSE_01Oct20-01Oct21.csv')"
   ]
  },
  {
   "cell_type": "code",
   "execution_count": 4,
   "metadata": {},
   "outputs": [],
   "source": [
    "nse=pd.read_csv(\"E:\\ML PROJECTS\\TATA MOTORS PRICE PREDICTION\\Dataset\\TATAMTRDVR_NSE_01Oct20-01Oct21.csv\")"
   ]
  },
  {
   "cell_type": "code",
   "execution_count": 6,
   "metadata": {},
   "outputs": [],
   "source": [
    "nyse=pd.read_csv(\"E:\\ML PROJECTS\\TATA MOTORS PRICE PREDICTION\\Dataset\\TTM_NYSE_01Oct20-01Oct21.csv\")"
   ]
  },
  {
   "cell_type": "code",
   "execution_count": 8,
   "metadata": {},
   "outputs": [],
   "source": [
    "dataset=pd.concat([bse,nse,nyse])"
   ]
  },
  {
   "cell_type": "code",
   "execution_count": 9,
   "metadata": {},
   "outputs": [
    {
     "data": {
      "text/html": [
       "<div>\n",
       "<style scoped>\n",
       "    .dataframe tbody tr th:only-of-type {\n",
       "        vertical-align: middle;\n",
       "    }\n",
       "\n",
       "    .dataframe tbody tr th {\n",
       "        vertical-align: top;\n",
       "    }\n",
       "\n",
       "    .dataframe thead th {\n",
       "        text-align: right;\n",
       "    }\n",
       "</style>\n",
       "<table border=\"1\" class=\"dataframe\">\n",
       "  <thead>\n",
       "    <tr style=\"text-align: right;\">\n",
       "      <th></th>\n",
       "      <th>Date</th>\n",
       "      <th>Open</th>\n",
       "      <th>High</th>\n",
       "      <th>Low</th>\n",
       "      <th>Close</th>\n",
       "      <th>Adj Close</th>\n",
       "      <th>Volume</th>\n",
       "    </tr>\n",
       "  </thead>\n",
       "  <tbody>\n",
       "    <tr>\n",
       "      <th>0</th>\n",
       "      <td>2020-10-01</td>\n",
       "      <td>135.699997</td>\n",
       "      <td>136.500000</td>\n",
       "      <td>132.600006</td>\n",
       "      <td>133.500000</td>\n",
       "      <td>133.500000</td>\n",
       "      <td>1674311.0</td>\n",
       "    </tr>\n",
       "    <tr>\n",
       "      <th>1</th>\n",
       "      <td>2020-10-05</td>\n",
       "      <td>137.000000</td>\n",
       "      <td>137.500000</td>\n",
       "      <td>132.050003</td>\n",
       "      <td>133.899994</td>\n",
       "      <td>133.899994</td>\n",
       "      <td>2800303.0</td>\n",
       "    </tr>\n",
       "    <tr>\n",
       "      <th>2</th>\n",
       "      <td>2020-10-06</td>\n",
       "      <td>137.800003</td>\n",
       "      <td>145.699997</td>\n",
       "      <td>135.899994</td>\n",
       "      <td>144.850006</td>\n",
       "      <td>144.850006</td>\n",
       "      <td>10190922.0</td>\n",
       "    </tr>\n",
       "    <tr>\n",
       "      <th>3</th>\n",
       "      <td>2020-10-07</td>\n",
       "      <td>144.100006</td>\n",
       "      <td>144.500000</td>\n",
       "      <td>139.800003</td>\n",
       "      <td>141.000000</td>\n",
       "      <td>141.000000</td>\n",
       "      <td>4032654.0</td>\n",
       "    </tr>\n",
       "    <tr>\n",
       "      <th>4</th>\n",
       "      <td>2020-10-08</td>\n",
       "      <td>142.800003</td>\n",
       "      <td>143.350006</td>\n",
       "      <td>139.649994</td>\n",
       "      <td>140.899994</td>\n",
       "      <td>140.899994</td>\n",
       "      <td>2491175.0</td>\n",
       "    </tr>\n",
       "  </tbody>\n",
       "</table>\n",
       "</div>"
      ],
      "text/plain": [
       "         Date        Open        High         Low       Close   Adj Close  \\\n",
       "0  2020-10-01  135.699997  136.500000  132.600006  133.500000  133.500000   \n",
       "1  2020-10-05  137.000000  137.500000  132.050003  133.899994  133.899994   \n",
       "2  2020-10-06  137.800003  145.699997  135.899994  144.850006  144.850006   \n",
       "3  2020-10-07  144.100006  144.500000  139.800003  141.000000  141.000000   \n",
       "4  2020-10-08  142.800003  143.350006  139.649994  140.899994  140.899994   \n",
       "\n",
       "       Volume  \n",
       "0   1674311.0  \n",
       "1   2800303.0  \n",
       "2  10190922.0  \n",
       "3   4032654.0  \n",
       "4   2491175.0  "
      ]
     },
     "execution_count": 9,
     "metadata": {},
     "output_type": "execute_result"
    }
   ],
   "source": [
    "dataset.head()"
   ]
  },
  {
   "cell_type": "code",
   "execution_count": 10,
   "metadata": {},
   "outputs": [
    {
     "data": {
      "text/plain": [
       "(749, 7)"
      ]
     },
     "execution_count": 10,
     "metadata": {},
     "output_type": "execute_result"
    }
   ],
   "source": [
    "dataset.shape"
   ]
  },
  {
   "cell_type": "code",
   "execution_count": 14,
   "metadata": {},
   "outputs": [
    {
     "data": {
      "text/plain": [
       "Date         0\n",
       "Open         2\n",
       "High         2\n",
       "Low          2\n",
       "Close        2\n",
       "Adj Close    2\n",
       "Volume       2\n",
       "dtype: int64"
      ]
     },
     "execution_count": 14,
     "metadata": {},
     "output_type": "execute_result"
    }
   ],
   "source": [
    "dataset.isnull().sum()"
   ]
  },
  {
   "cell_type": "code",
   "execution_count": 18,
   "metadata": {},
   "outputs": [],
   "source": [
    "dataset=dataset.dropna().reset_index()"
   ]
  },
  {
   "cell_type": "code",
   "execution_count": 20,
   "metadata": {},
   "outputs": [
    {
     "data": {
      "text/html": [
       "<div>\n",
       "<style scoped>\n",
       "    .dataframe tbody tr th:only-of-type {\n",
       "        vertical-align: middle;\n",
       "    }\n",
       "\n",
       "    .dataframe tbody tr th {\n",
       "        vertical-align: top;\n",
       "    }\n",
       "\n",
       "    .dataframe thead th {\n",
       "        text-align: right;\n",
       "    }\n",
       "</style>\n",
       "<table border=\"1\" class=\"dataframe\">\n",
       "  <thead>\n",
       "    <tr style=\"text-align: right;\">\n",
       "      <th></th>\n",
       "      <th>index</th>\n",
       "      <th>Date</th>\n",
       "      <th>Open</th>\n",
       "      <th>High</th>\n",
       "      <th>Low</th>\n",
       "      <th>Close</th>\n",
       "      <th>Adj Close</th>\n",
       "      <th>Volume</th>\n",
       "    </tr>\n",
       "  </thead>\n",
       "  <tbody>\n",
       "    <tr>\n",
       "      <th>0</th>\n",
       "      <td>0</td>\n",
       "      <td>2020-10-01</td>\n",
       "      <td>135.699997</td>\n",
       "      <td>136.500000</td>\n",
       "      <td>132.600006</td>\n",
       "      <td>133.500000</td>\n",
       "      <td>133.500000</td>\n",
       "      <td>1674311.0</td>\n",
       "    </tr>\n",
       "    <tr>\n",
       "      <th>1</th>\n",
       "      <td>1</td>\n",
       "      <td>2020-10-05</td>\n",
       "      <td>137.000000</td>\n",
       "      <td>137.500000</td>\n",
       "      <td>132.050003</td>\n",
       "      <td>133.899994</td>\n",
       "      <td>133.899994</td>\n",
       "      <td>2800303.0</td>\n",
       "    </tr>\n",
       "    <tr>\n",
       "      <th>2</th>\n",
       "      <td>2</td>\n",
       "      <td>2020-10-06</td>\n",
       "      <td>137.800003</td>\n",
       "      <td>145.699997</td>\n",
       "      <td>135.899994</td>\n",
       "      <td>144.850006</td>\n",
       "      <td>144.850006</td>\n",
       "      <td>10190922.0</td>\n",
       "    </tr>\n",
       "    <tr>\n",
       "      <th>3</th>\n",
       "      <td>3</td>\n",
       "      <td>2020-10-07</td>\n",
       "      <td>144.100006</td>\n",
       "      <td>144.500000</td>\n",
       "      <td>139.800003</td>\n",
       "      <td>141.000000</td>\n",
       "      <td>141.000000</td>\n",
       "      <td>4032654.0</td>\n",
       "    </tr>\n",
       "    <tr>\n",
       "      <th>4</th>\n",
       "      <td>4</td>\n",
       "      <td>2020-10-08</td>\n",
       "      <td>142.800003</td>\n",
       "      <td>143.350006</td>\n",
       "      <td>139.649994</td>\n",
       "      <td>140.899994</td>\n",
       "      <td>140.899994</td>\n",
       "      <td>2491175.0</td>\n",
       "    </tr>\n",
       "  </tbody>\n",
       "</table>\n",
       "</div>"
      ],
      "text/plain": [
       "   index        Date        Open        High         Low       Close  \\\n",
       "0      0  2020-10-01  135.699997  136.500000  132.600006  133.500000   \n",
       "1      1  2020-10-05  137.000000  137.500000  132.050003  133.899994   \n",
       "2      2  2020-10-06  137.800003  145.699997  135.899994  144.850006   \n",
       "3      3  2020-10-07  144.100006  144.500000  139.800003  141.000000   \n",
       "4      4  2020-10-08  142.800003  143.350006  139.649994  140.899994   \n",
       "\n",
       "    Adj Close      Volume  \n",
       "0  133.500000   1674311.0  \n",
       "1  133.899994   2800303.0  \n",
       "2  144.850006  10190922.0  \n",
       "3  141.000000   4032654.0  \n",
       "4  140.899994   2491175.0  "
      ]
     },
     "execution_count": 20,
     "metadata": {},
     "output_type": "execute_result"
    }
   ],
   "source": [
    "dataset.head()"
   ]
  },
  {
   "cell_type": "code",
   "execution_count": 21,
   "metadata": {},
   "outputs": [],
   "source": [
    "dataset=dataset.drop(\"index\",axis=1)"
   ]
  },
  {
   "cell_type": "code",
   "execution_count": 22,
   "metadata": {},
   "outputs": [
    {
     "data": {
      "text/html": [
       "<div>\n",
       "<style scoped>\n",
       "    .dataframe tbody tr th:only-of-type {\n",
       "        vertical-align: middle;\n",
       "    }\n",
       "\n",
       "    .dataframe tbody tr th {\n",
       "        vertical-align: top;\n",
       "    }\n",
       "\n",
       "    .dataframe thead th {\n",
       "        text-align: right;\n",
       "    }\n",
       "</style>\n",
       "<table border=\"1\" class=\"dataframe\">\n",
       "  <thead>\n",
       "    <tr style=\"text-align: right;\">\n",
       "      <th></th>\n",
       "      <th>Date</th>\n",
       "      <th>Open</th>\n",
       "      <th>High</th>\n",
       "      <th>Low</th>\n",
       "      <th>Close</th>\n",
       "      <th>Adj Close</th>\n",
       "      <th>Volume</th>\n",
       "    </tr>\n",
       "  </thead>\n",
       "  <tbody>\n",
       "    <tr>\n",
       "      <th>0</th>\n",
       "      <td>2020-10-01</td>\n",
       "      <td>135.699997</td>\n",
       "      <td>136.500000</td>\n",
       "      <td>132.600006</td>\n",
       "      <td>133.500000</td>\n",
       "      <td>133.500000</td>\n",
       "      <td>1674311.0</td>\n",
       "    </tr>\n",
       "    <tr>\n",
       "      <th>1</th>\n",
       "      <td>2020-10-05</td>\n",
       "      <td>137.000000</td>\n",
       "      <td>137.500000</td>\n",
       "      <td>132.050003</td>\n",
       "      <td>133.899994</td>\n",
       "      <td>133.899994</td>\n",
       "      <td>2800303.0</td>\n",
       "    </tr>\n",
       "    <tr>\n",
       "      <th>2</th>\n",
       "      <td>2020-10-06</td>\n",
       "      <td>137.800003</td>\n",
       "      <td>145.699997</td>\n",
       "      <td>135.899994</td>\n",
       "      <td>144.850006</td>\n",
       "      <td>144.850006</td>\n",
       "      <td>10190922.0</td>\n",
       "    </tr>\n",
       "    <tr>\n",
       "      <th>3</th>\n",
       "      <td>2020-10-07</td>\n",
       "      <td>144.100006</td>\n",
       "      <td>144.500000</td>\n",
       "      <td>139.800003</td>\n",
       "      <td>141.000000</td>\n",
       "      <td>141.000000</td>\n",
       "      <td>4032654.0</td>\n",
       "    </tr>\n",
       "    <tr>\n",
       "      <th>4</th>\n",
       "      <td>2020-10-08</td>\n",
       "      <td>142.800003</td>\n",
       "      <td>143.350006</td>\n",
       "      <td>139.649994</td>\n",
       "      <td>140.899994</td>\n",
       "      <td>140.899994</td>\n",
       "      <td>2491175.0</td>\n",
       "    </tr>\n",
       "  </tbody>\n",
       "</table>\n",
       "</div>"
      ],
      "text/plain": [
       "         Date        Open        High         Low       Close   Adj Close  \\\n",
       "0  2020-10-01  135.699997  136.500000  132.600006  133.500000  133.500000   \n",
       "1  2020-10-05  137.000000  137.500000  132.050003  133.899994  133.899994   \n",
       "2  2020-10-06  137.800003  145.699997  135.899994  144.850006  144.850006   \n",
       "3  2020-10-07  144.100006  144.500000  139.800003  141.000000  141.000000   \n",
       "4  2020-10-08  142.800003  143.350006  139.649994  140.899994  140.899994   \n",
       "\n",
       "       Volume  \n",
       "0   1674311.0  \n",
       "1   2800303.0  \n",
       "2  10190922.0  \n",
       "3   4032654.0  \n",
       "4   2491175.0  "
      ]
     },
     "execution_count": 22,
     "metadata": {},
     "output_type": "execute_result"
    }
   ],
   "source": [
    "dataset.head()"
   ]
  },
  {
   "cell_type": "code",
   "execution_count": 45,
   "metadata": {},
   "outputs": [],
   "source": [
    "dataset[['Year', 'Month', 'Day']] =dataset[\"Date\"].str.split(\"-\",expand=True)"
   ]
  },
  {
   "cell_type": "code",
   "execution_count": 46,
   "metadata": {},
   "outputs": [
    {
     "data": {
      "text/html": [
       "<div>\n",
       "<style scoped>\n",
       "    .dataframe tbody tr th:only-of-type {\n",
       "        vertical-align: middle;\n",
       "    }\n",
       "\n",
       "    .dataframe tbody tr th {\n",
       "        vertical-align: top;\n",
       "    }\n",
       "\n",
       "    .dataframe thead th {\n",
       "        text-align: right;\n",
       "    }\n",
       "</style>\n",
       "<table border=\"1\" class=\"dataframe\">\n",
       "  <thead>\n",
       "    <tr style=\"text-align: right;\">\n",
       "      <th></th>\n",
       "      <th>Date</th>\n",
       "      <th>Open</th>\n",
       "      <th>High</th>\n",
       "      <th>Low</th>\n",
       "      <th>Close</th>\n",
       "      <th>Adj Close</th>\n",
       "      <th>Volume</th>\n",
       "      <th>Year</th>\n",
       "      <th>Month</th>\n",
       "      <th>Day</th>\n",
       "    </tr>\n",
       "  </thead>\n",
       "  <tbody>\n",
       "    <tr>\n",
       "      <th>0</th>\n",
       "      <td>2020-10-01</td>\n",
       "      <td>135.699997</td>\n",
       "      <td>136.500000</td>\n",
       "      <td>132.600006</td>\n",
       "      <td>133.500000</td>\n",
       "      <td>133.500000</td>\n",
       "      <td>1674311.0</td>\n",
       "      <td>2020</td>\n",
       "      <td>10</td>\n",
       "      <td>01</td>\n",
       "    </tr>\n",
       "    <tr>\n",
       "      <th>1</th>\n",
       "      <td>2020-10-05</td>\n",
       "      <td>137.000000</td>\n",
       "      <td>137.500000</td>\n",
       "      <td>132.050003</td>\n",
       "      <td>133.899994</td>\n",
       "      <td>133.899994</td>\n",
       "      <td>2800303.0</td>\n",
       "      <td>2020</td>\n",
       "      <td>10</td>\n",
       "      <td>05</td>\n",
       "    </tr>\n",
       "    <tr>\n",
       "      <th>2</th>\n",
       "      <td>2020-10-06</td>\n",
       "      <td>137.800003</td>\n",
       "      <td>145.699997</td>\n",
       "      <td>135.899994</td>\n",
       "      <td>144.850006</td>\n",
       "      <td>144.850006</td>\n",
       "      <td>10190922.0</td>\n",
       "      <td>2020</td>\n",
       "      <td>10</td>\n",
       "      <td>06</td>\n",
       "    </tr>\n",
       "    <tr>\n",
       "      <th>3</th>\n",
       "      <td>2020-10-07</td>\n",
       "      <td>144.100006</td>\n",
       "      <td>144.500000</td>\n",
       "      <td>139.800003</td>\n",
       "      <td>141.000000</td>\n",
       "      <td>141.000000</td>\n",
       "      <td>4032654.0</td>\n",
       "      <td>2020</td>\n",
       "      <td>10</td>\n",
       "      <td>07</td>\n",
       "    </tr>\n",
       "    <tr>\n",
       "      <th>4</th>\n",
       "      <td>2020-10-08</td>\n",
       "      <td>142.800003</td>\n",
       "      <td>143.350006</td>\n",
       "      <td>139.649994</td>\n",
       "      <td>140.899994</td>\n",
       "      <td>140.899994</td>\n",
       "      <td>2491175.0</td>\n",
       "      <td>2020</td>\n",
       "      <td>10</td>\n",
       "      <td>08</td>\n",
       "    </tr>\n",
       "  </tbody>\n",
       "</table>\n",
       "</div>"
      ],
      "text/plain": [
       "         Date        Open        High         Low       Close   Adj Close  \\\n",
       "0  2020-10-01  135.699997  136.500000  132.600006  133.500000  133.500000   \n",
       "1  2020-10-05  137.000000  137.500000  132.050003  133.899994  133.899994   \n",
       "2  2020-10-06  137.800003  145.699997  135.899994  144.850006  144.850006   \n",
       "3  2020-10-07  144.100006  144.500000  139.800003  141.000000  141.000000   \n",
       "4  2020-10-08  142.800003  143.350006  139.649994  140.899994  140.899994   \n",
       "\n",
       "       Volume  Year Month Day  \n",
       "0   1674311.0  2020    10  01  \n",
       "1   2800303.0  2020    10  05  \n",
       "2  10190922.0  2020    10  06  \n",
       "3   4032654.0  2020    10  07  \n",
       "4   2491175.0  2020    10  08  "
      ]
     },
     "execution_count": 46,
     "metadata": {},
     "output_type": "execute_result"
    }
   ],
   "source": [
    "\n",
    "dataset.head()\n"
   ]
  },
  {
   "cell_type": "code",
   "execution_count": 48,
   "metadata": {},
   "outputs": [],
   "source": [
    "dataset=dataset.drop(\"Date\",axis=1)"
   ]
  },
  {
   "cell_type": "code",
   "execution_count": 49,
   "metadata": {},
   "outputs": [
    {
     "data": {
      "text/html": [
       "<div>\n",
       "<style scoped>\n",
       "    .dataframe tbody tr th:only-of-type {\n",
       "        vertical-align: middle;\n",
       "    }\n",
       "\n",
       "    .dataframe tbody tr th {\n",
       "        vertical-align: top;\n",
       "    }\n",
       "\n",
       "    .dataframe thead th {\n",
       "        text-align: right;\n",
       "    }\n",
       "</style>\n",
       "<table border=\"1\" class=\"dataframe\">\n",
       "  <thead>\n",
       "    <tr style=\"text-align: right;\">\n",
       "      <th></th>\n",
       "      <th>Open</th>\n",
       "      <th>High</th>\n",
       "      <th>Low</th>\n",
       "      <th>Close</th>\n",
       "      <th>Adj Close</th>\n",
       "      <th>Volume</th>\n",
       "      <th>Year</th>\n",
       "      <th>Month</th>\n",
       "      <th>Day</th>\n",
       "    </tr>\n",
       "  </thead>\n",
       "  <tbody>\n",
       "    <tr>\n",
       "      <th>0</th>\n",
       "      <td>135.699997</td>\n",
       "      <td>136.500000</td>\n",
       "      <td>132.600006</td>\n",
       "      <td>133.500000</td>\n",
       "      <td>133.500000</td>\n",
       "      <td>1674311.0</td>\n",
       "      <td>2020</td>\n",
       "      <td>10</td>\n",
       "      <td>01</td>\n",
       "    </tr>\n",
       "    <tr>\n",
       "      <th>1</th>\n",
       "      <td>137.000000</td>\n",
       "      <td>137.500000</td>\n",
       "      <td>132.050003</td>\n",
       "      <td>133.899994</td>\n",
       "      <td>133.899994</td>\n",
       "      <td>2800303.0</td>\n",
       "      <td>2020</td>\n",
       "      <td>10</td>\n",
       "      <td>05</td>\n",
       "    </tr>\n",
       "    <tr>\n",
       "      <th>2</th>\n",
       "      <td>137.800003</td>\n",
       "      <td>145.699997</td>\n",
       "      <td>135.899994</td>\n",
       "      <td>144.850006</td>\n",
       "      <td>144.850006</td>\n",
       "      <td>10190922.0</td>\n",
       "      <td>2020</td>\n",
       "      <td>10</td>\n",
       "      <td>06</td>\n",
       "    </tr>\n",
       "    <tr>\n",
       "      <th>3</th>\n",
       "      <td>144.100006</td>\n",
       "      <td>144.500000</td>\n",
       "      <td>139.800003</td>\n",
       "      <td>141.000000</td>\n",
       "      <td>141.000000</td>\n",
       "      <td>4032654.0</td>\n",
       "      <td>2020</td>\n",
       "      <td>10</td>\n",
       "      <td>07</td>\n",
       "    </tr>\n",
       "    <tr>\n",
       "      <th>4</th>\n",
       "      <td>142.800003</td>\n",
       "      <td>143.350006</td>\n",
       "      <td>139.649994</td>\n",
       "      <td>140.899994</td>\n",
       "      <td>140.899994</td>\n",
       "      <td>2491175.0</td>\n",
       "      <td>2020</td>\n",
       "      <td>10</td>\n",
       "      <td>08</td>\n",
       "    </tr>\n",
       "  </tbody>\n",
       "</table>\n",
       "</div>"
      ],
      "text/plain": [
       "         Open        High         Low       Close   Adj Close      Volume  \\\n",
       "0  135.699997  136.500000  132.600006  133.500000  133.500000   1674311.0   \n",
       "1  137.000000  137.500000  132.050003  133.899994  133.899994   2800303.0   \n",
       "2  137.800003  145.699997  135.899994  144.850006  144.850006  10190922.0   \n",
       "3  144.100006  144.500000  139.800003  141.000000  141.000000   4032654.0   \n",
       "4  142.800003  143.350006  139.649994  140.899994  140.899994   2491175.0   \n",
       "\n",
       "   Year Month Day  \n",
       "0  2020    10  01  \n",
       "1  2020    10  05  \n",
       "2  2020    10  06  \n",
       "3  2020    10  07  \n",
       "4  2020    10  08  "
      ]
     },
     "execution_count": 49,
     "metadata": {},
     "output_type": "execute_result"
    }
   ],
   "source": [
    "dataset.head()"
   ]
  },
  {
   "cell_type": "code",
   "execution_count": 50,
   "metadata": {},
   "outputs": [],
   "source": [
    "import seaborn as sns"
   ]
  },
  {
   "cell_type": "code",
   "execution_count": 51,
   "metadata": {},
   "outputs": [
    {
     "data": {
      "text/plain": [
       "<Axes: >"
      ]
     },
     "execution_count": 51,
     "metadata": {},
     "output_type": "execute_result"
    },
    {
     "data": {
      "image/png": "[encoded data removed]",
      "text/plain": [
       "<Figure size 640x480 with 1 Axes>"
      ]
     },
     "metadata": {},
     "output_type": "display_data"
    }
   ],
   "source": [
    "sns.boxplot(dataset)"
   ]
  },
  {
   "cell_type": "code",
   "execution_count": 52,
   "metadata": {},
   "outputs": [
    {
     "data": {
      "text/html": [
       "<div>\n",
       "<style scoped>\n",
       "    .dataframe tbody tr th:only-of-type {\n",
       "        vertical-align: middle;\n",
       "    }\n",
       "\n",
       "    .dataframe tbody tr th {\n",
       "        vertical-align: top;\n",
       "    }\n",
       "\n",
       "    .dataframe thead th {\n",
       "        text-align: right;\n",
       "    }\n",
       "</style>\n",
       "<table border=\"1\" class=\"dataframe\">\n",
       "  <thead>\n",
       "    <tr style=\"text-align: right;\">\n",
       "      <th></th>\n",
       "      <th>Open</th>\n",
       "      <th>High</th>\n",
       "      <th>Low</th>\n",
       "      <th>Close</th>\n",
       "      <th>Adj Close</th>\n",
       "      <th>Volume</th>\n",
       "    </tr>\n",
       "  </thead>\n",
       "  <tbody>\n",
       "    <tr>\n",
       "      <th>count</th>\n",
       "      <td>747.000000</td>\n",
       "      <td>747.000000</td>\n",
       "      <td>747.000000</td>\n",
       "      <td>747.000000</td>\n",
       "      <td>747.000000</td>\n",
       "      <td>7.470000e+02</td>\n",
       "    </tr>\n",
       "    <tr>\n",
       "      <th>mean</th>\n",
       "      <td>134.070334</td>\n",
       "      <td>136.631044</td>\n",
       "      <td>131.596586</td>\n",
       "      <td>134.051526</td>\n",
       "      <td>134.051526</td>\n",
       "      <td>3.814122e+06</td>\n",
       "    </tr>\n",
       "    <tr>\n",
       "      <th>std</th>\n",
       "      <td>112.540302</td>\n",
       "      <td>114.486394</td>\n",
       "      <td>110.435682</td>\n",
       "      <td>112.369292</td>\n",
       "      <td>112.369292</td>\n",
       "      <td>4.605393e+06</td>\n",
       "    </tr>\n",
       "    <tr>\n",
       "      <th>min</th>\n",
       "      <td>8.680000</td>\n",
       "      <td>8.820000</td>\n",
       "      <td>8.570000</td>\n",
       "      <td>8.610000</td>\n",
       "      <td>8.610000</td>\n",
       "      <td>4.781380e+05</td>\n",
       "    </tr>\n",
       "    <tr>\n",
       "      <th>25%</th>\n",
       "      <td>21.394999</td>\n",
       "      <td>21.740000</td>\n",
       "      <td>21.150001</td>\n",
       "      <td>21.415000</td>\n",
       "      <td>21.415000</td>\n",
       "      <td>1.416450e+06</td>\n",
       "    </tr>\n",
       "    <tr>\n",
       "      <th>50%</th>\n",
       "      <td>132.300003</td>\n",
       "      <td>134.350006</td>\n",
       "      <td>129.100006</td>\n",
       "      <td>131.550003</td>\n",
       "      <td>131.550003</td>\n",
       "      <td>2.362100e+06</td>\n",
       "    </tr>\n",
       "    <tr>\n",
       "      <th>75%</th>\n",
       "      <td>185.300003</td>\n",
       "      <td>188.050003</td>\n",
       "      <td>182.825005</td>\n",
       "      <td>185.550003</td>\n",
       "      <td>185.550003</td>\n",
       "      <td>4.293620e+06</td>\n",
       "    </tr>\n",
       "    <tr>\n",
       "      <th>max</th>\n",
       "      <td>356.500000</td>\n",
       "      <td>360.649994</td>\n",
       "      <td>351.200012</td>\n",
       "      <td>356.000000</td>\n",
       "      <td>356.000000</td>\n",
       "      <td>5.228400e+07</td>\n",
       "    </tr>\n",
       "  </tbody>\n",
       "</table>\n",
       "</div>"
      ],
      "text/plain": [
       "             Open        High         Low       Close   Adj Close  \\\n",
       "count  747.000000  747.000000  747.000000  747.000000  747.000000   \n",
       "mean   134.070334  136.631044  131.596586  134.051526  134.051526   \n",
       "std    112.540302  114.486394  110.435682  112.369292  112.369292   \n",
       "min      8.680000    8.820000    8.570000    8.610000    8.610000   \n",
       "25%     21.394999   21.740000   21.150001   21.415000   21.415000   \n",
       "50%    132.300003  134.350006  129.100006  131.550003  131.550003   \n",
       "75%    185.300003  188.050003  182.825005  185.550003  185.550003   \n",
       "max    356.500000  360.649994  351.200012  356.000000  356.000000   \n",
       "\n",
       "             Volume  \n",
       "count  7.470000e+02  \n",
       "mean   3.814122e+06  \n",
       "std    4.605393e+06  \n",
       "min    4.781380e+05  \n",
       "25%    1.416450e+06  \n",
       "50%    2.362100e+06  \n",
       "75%    4.293620e+06  \n",
       "max    5.228400e+07  "
      ]
     },
     "execution_count": 52,
     "metadata": {},
     "output_type": "execute_result"
    }
   ],
   "source": [
    "dataset.describe()"
   ]
  },
  {
   "cell_type": "code",
   "execution_count": 53,
   "metadata": {},
   "outputs": [],
   "source": [
    "\n",
    "Q1 = dataset['Volume'].quantile(0.25)\n",
    "Q3 = dataset['Volume'].quantile(0.75)\n",
    "IQR = Q3 - Q1\n",
    "\n",
    "\n",
    "lower_bound = Q1 - 1.5 * IQR\n",
    "upper_bound = Q3 + 1.5 * IQR\n",
    "\n",
    "\n",
    "dataset_new = dataset[(dataset['Volume'] >= lower_bound) & (dataset['Volume'] <= upper_bound)]\n",
    "\n",
    "\n"
   ]
  },
  {
   "cell_type": "code",
   "execution_count": 54,
   "metadata": {},
   "outputs": [
    {
     "data": {
      "text/plain": [
       "<Axes: >"
      ]
     },
     "execution_count": 54,
     "metadata": {},
     "output_type": "execute_result"
    },
    {
     "data": {
      "image/png": "[encoded data removed]",
      "text/plain": [
       "<Figure size 640x480 with 1 Axes>"
      ]
     },
     "metadata": {},
     "output_type": "display_data"
    }
   ],
   "source": [
    "sns.boxplot(dataset_new)"
   ]
  },
  {
   "cell_type": "code",
   "execution_count": 55,
   "metadata": {},
   "outputs": [],
   "source": [
    "\n",
    "Q1 = dataset_new['Volume'].quantile(0.25)\n",
    "Q3 = dataset_new['Volume'].quantile(0.75)\n",
    "IQR = Q3 - Q1\n",
    "\n",
    "\n",
    "lower_bound = Q1 - 1.5 * IQR\n",
    "upper_bound = Q3 + 1.5 * IQR\n",
    "\n",
    "\n",
    "dataset_newest = dataset_new[(dataset_new['Volume'] >= lower_bound) & (dataset_new['Volume'] <= upper_bound)]"
   ]
  },
  {
   "cell_type": "code",
   "execution_count": 56,
   "metadata": {},
   "outputs": [
    {
     "data": {
      "text/plain": [
       "<Axes: >"
      ]
     },
     "execution_count": 56,
     "metadata": {},
     "output_type": "execute_result"
    },
    {
     "data": {
      "image/png": "[encoded data removed]",
      "text/plain": [
       "<Figure size 640x480 with 1 Axes>"
      ]
     },
     "metadata": {},
     "output_type": "display_data"
    }
   ],
   "source": [
    "\n",
    "sns.boxplot(dataset_newest)\n"
   ]
  },
  {
   "cell_type": "code",
   "execution_count": 57,
   "metadata": {},
   "outputs": [],
   "source": [
    "data=dataset_newest"
   ]
  },
  {
   "cell_type": "code",
   "execution_count": 58,
   "metadata": {},
   "outputs": [
    {
     "data": {
      "text/html": [
       "<div>\n",
       "<style scoped>\n",
       "    .dataframe tbody tr th:only-of-type {\n",
       "        vertical-align: middle;\n",
       "    }\n",
       "\n",
       "    .dataframe tbody tr th {\n",
       "        vertical-align: top;\n",
       "    }\n",
       "\n",
       "    .dataframe thead th {\n",
       "        text-align: right;\n",
       "    }\n",
       "</style>\n",
       "<table border=\"1\" class=\"dataframe\">\n",
       "  <thead>\n",
       "    <tr style=\"text-align: right;\">\n",
       "      <th></th>\n",
       "      <th>Open</th>\n",
       "      <th>High</th>\n",
       "      <th>Low</th>\n",
       "      <th>Close</th>\n",
       "      <th>Adj Close</th>\n",
       "      <th>Volume</th>\n",
       "      <th>Year</th>\n",
       "      <th>Month</th>\n",
       "      <th>Day</th>\n",
       "    </tr>\n",
       "  </thead>\n",
       "  <tbody>\n",
       "    <tr>\n",
       "      <th>0</th>\n",
       "      <td>135.699997</td>\n",
       "      <td>136.500000</td>\n",
       "      <td>132.600006</td>\n",
       "      <td>133.500000</td>\n",
       "      <td>133.500000</td>\n",
       "      <td>1674311.0</td>\n",
       "      <td>2020</td>\n",
       "      <td>10</td>\n",
       "      <td>01</td>\n",
       "    </tr>\n",
       "    <tr>\n",
       "      <th>1</th>\n",
       "      <td>137.000000</td>\n",
       "      <td>137.500000</td>\n",
       "      <td>132.050003</td>\n",
       "      <td>133.899994</td>\n",
       "      <td>133.899994</td>\n",
       "      <td>2800303.0</td>\n",
       "      <td>2020</td>\n",
       "      <td>10</td>\n",
       "      <td>05</td>\n",
       "    </tr>\n",
       "    <tr>\n",
       "      <th>3</th>\n",
       "      <td>144.100006</td>\n",
       "      <td>144.500000</td>\n",
       "      <td>139.800003</td>\n",
       "      <td>141.000000</td>\n",
       "      <td>141.000000</td>\n",
       "      <td>4032654.0</td>\n",
       "      <td>2020</td>\n",
       "      <td>10</td>\n",
       "      <td>07</td>\n",
       "    </tr>\n",
       "    <tr>\n",
       "      <th>4</th>\n",
       "      <td>142.800003</td>\n",
       "      <td>143.350006</td>\n",
       "      <td>139.649994</td>\n",
       "      <td>140.899994</td>\n",
       "      <td>140.899994</td>\n",
       "      <td>2491175.0</td>\n",
       "      <td>2020</td>\n",
       "      <td>10</td>\n",
       "      <td>08</td>\n",
       "    </tr>\n",
       "    <tr>\n",
       "      <th>5</th>\n",
       "      <td>141.399994</td>\n",
       "      <td>142.649994</td>\n",
       "      <td>138.000000</td>\n",
       "      <td>138.449997</td>\n",
       "      <td>138.449997</td>\n",
       "      <td>1423879.0</td>\n",
       "      <td>2020</td>\n",
       "      <td>10</td>\n",
       "      <td>09</td>\n",
       "    </tr>\n",
       "  </tbody>\n",
       "</table>\n",
       "</div>"
      ],
      "text/plain": [
       "         Open        High         Low       Close   Adj Close     Volume  \\\n",
       "0  135.699997  136.500000  132.600006  133.500000  133.500000  1674311.0   \n",
       "1  137.000000  137.500000  132.050003  133.899994  133.899994  2800303.0   \n",
       "3  144.100006  144.500000  139.800003  141.000000  141.000000  4032654.0   \n",
       "4  142.800003  143.350006  139.649994  140.899994  140.899994  2491175.0   \n",
       "5  141.399994  142.649994  138.000000  138.449997  138.449997  1423879.0   \n",
       "\n",
       "   Year Month Day  \n",
       "0  2020    10  01  \n",
       "1  2020    10  05  \n",
       "3  2020    10  07  \n",
       "4  2020    10  08  \n",
       "5  2020    10  09  "
      ]
     },
     "execution_count": 58,
     "metadata": {},
     "output_type": "execute_result"
    }
   ],
   "source": [
    "data.head()"
   ]
  },
  {
   "cell_type": "code",
   "execution_count": 60,
   "metadata": {},
   "outputs": [
    {
     "name": "stderr",
     "output_type": "stream",
     "text": [
      "C:\\Users\\tusha\\AppData\\Local\\Temp\\ipykernel_34548\\3218051027.py:1: UserWarning: \n",
      "\n",
      "`distplot` is a deprecated function and will be removed in seaborn v0.14.0.\n",
      "\n",
      "Please adapt your code to use either `displot` (a figure-level function with\n",
      "similar flexibility) or `histplot` (an axes-level function for histograms).\n",
      "\n",
      "For a guide to updating your code to use the new functions, please see\n",
      "https://gist.github.com/mwaskom/de44147ed2974457ad6372750bbe5751\n",
      "\n",
      "  sns.distplot(data[\"Open\"])\n"
     ]
    },
    {
     "data": {
      "text/plain": [
       "<Axes: xlabel='Open', ylabel='Density'>"
      ]
     },
     "execution_count": 60,
     "metadata": {},
     "output_type": "execute_result"
    },
    {
     "data": {
      "image/png": "[encoded data removed]",
      "text/plain": [
       "<Figure size 640x480 with 1 Axes>"
      ]
     },
     "metadata": {},
     "output_type": "display_data"
    }
   ],
   "source": [
    "sns.distplot(data[\"Open\"])"
   ]
  },
  {
   "cell_type": "code",
   "execution_count": 61,
   "metadata": {},
   "outputs": [
    {
     "name": "stderr",
     "output_type": "stream",
     "text": [
      "C:\\Users\\tusha\\AppData\\Local\\Temp\\ipykernel_34548\\2693321050.py:1: UserWarning: \n",
      "\n",
      "`distplot` is a deprecated function and will be removed in seaborn v0.14.0.\n",
      "\n",
      "Please adapt your code to use either `displot` (a figure-level function with\n",
      "similar flexibility) or `histplot` (an axes-level function for histograms).\n",
      "\n",
      "For a guide to updating your code to use the new functions, please see\n",
      "https://gist.github.com/mwaskom/de44147ed2974457ad6372750bbe5751\n",
      "\n",
      "  sns.distplot(data[\"Close\"])\n"
     ]
    },
    {
     "data": {
      "text/plain": [
       "<Axes: xlabel='Close', ylabel='Density'>"
      ]
     },
     "execution_count": 61,
     "metadata": {},
     "output_type": "execute_result"
    },
    {
     "data": {
      "image/png": "[encoded data removed]",
      "text/plain": [
       "<Figure size 640x480 with 1 Axes>"
      ]
     },
     "metadata": {},
     "output_type": "display_data"
    }
   ],
   "source": [
    "sns.distplot(data[\"Close\"])"
   ]
  },
  {
   "cell_type": "code",
   "execution_count": 62,
   "metadata": {},
   "outputs": [
    {
     "data": {
      "text/html": [
       "<div>\n",
       "<style scoped>\n",
       "    .dataframe tbody tr th:only-of-type {\n",
       "        vertical-align: middle;\n",
       "    }\n",
       "\n",
       "    .dataframe tbody tr th {\n",
       "        vertical-align: top;\n",
       "    }\n",
       "\n",
       "    .dataframe thead th {\n",
       "        text-align: right;\n",
       "    }\n",
       "</style>\n",
       "<table border=\"1\" class=\"dataframe\">\n",
       "  <thead>\n",
       "    <tr style=\"text-align: right;\">\n",
       "      <th></th>\n",
       "      <th>Open</th>\n",
       "      <th>High</th>\n",
       "      <th>Low</th>\n",
       "      <th>Close</th>\n",
       "      <th>Adj Close</th>\n",
       "      <th>Volume</th>\n",
       "      <th>Year</th>\n",
       "      <th>Month</th>\n",
       "      <th>Day</th>\n",
       "    </tr>\n",
       "  </thead>\n",
       "  <tbody>\n",
       "    <tr>\n",
       "      <th>Open</th>\n",
       "      <td>1.000000</td>\n",
       "      <td>0.999822</td>\n",
       "      <td>0.999739</td>\n",
       "      <td>0.999580</td>\n",
       "      <td>0.999580</td>\n",
       "      <td>0.225394</td>\n",
       "      <td>0.282520</td>\n",
       "      <td>-0.156376</td>\n",
       "      <td>0.002171</td>\n",
       "    </tr>\n",
       "    <tr>\n",
       "      <th>High</th>\n",
       "      <td>0.999822</td>\n",
       "      <td>1.000000</td>\n",
       "      <td>0.999788</td>\n",
       "      <td>0.999847</td>\n",
       "      <td>0.999847</td>\n",
       "      <td>0.230520</td>\n",
       "      <td>0.283257</td>\n",
       "      <td>-0.157973</td>\n",
       "      <td>0.002065</td>\n",
       "    </tr>\n",
       "    <tr>\n",
       "      <th>Low</th>\n",
       "      <td>0.999739</td>\n",
       "      <td>0.999788</td>\n",
       "      <td>1.000000</td>\n",
       "      <td>0.999840</td>\n",
       "      <td>0.999840</td>\n",
       "      <td>0.220893</td>\n",
       "      <td>0.283698</td>\n",
       "      <td>-0.154899</td>\n",
       "      <td>0.001827</td>\n",
       "    </tr>\n",
       "    <tr>\n",
       "      <th>Close</th>\n",
       "      <td>0.999580</td>\n",
       "      <td>0.999847</td>\n",
       "      <td>0.999840</td>\n",
       "      <td>1.000000</td>\n",
       "      <td>1.000000</td>\n",
       "      <td>0.225816</td>\n",
       "      <td>0.283790</td>\n",
       "      <td>-0.156137</td>\n",
       "      <td>0.001234</td>\n",
       "    </tr>\n",
       "    <tr>\n",
       "      <th>Adj Close</th>\n",
       "      <td>0.999580</td>\n",
       "      <td>0.999847</td>\n",
       "      <td>0.999840</td>\n",
       "      <td>1.000000</td>\n",
       "      <td>1.000000</td>\n",
       "      <td>0.225816</td>\n",
       "      <td>0.283790</td>\n",
       "      <td>-0.156137</td>\n",
       "      <td>0.001234</td>\n",
       "    </tr>\n",
       "    <tr>\n",
       "      <th>Volume</th>\n",
       "      <td>0.225394</td>\n",
       "      <td>0.230520</td>\n",
       "      <td>0.220893</td>\n",
       "      <td>0.225816</td>\n",
       "      <td>0.225816</td>\n",
       "      <td>1.000000</td>\n",
       "      <td>-0.159702</td>\n",
       "      <td>-0.078954</td>\n",
       "      <td>-0.045236</td>\n",
       "    </tr>\n",
       "    <tr>\n",
       "      <th>Year</th>\n",
       "      <td>0.282520</td>\n",
       "      <td>0.283257</td>\n",
       "      <td>0.283698</td>\n",
       "      <td>0.283790</td>\n",
       "      <td>0.283790</td>\n",
       "      <td>-0.159702</td>\n",
       "      <td>1.000000</td>\n",
       "      <td>-0.754304</td>\n",
       "      <td>0.020821</td>\n",
       "    </tr>\n",
       "    <tr>\n",
       "      <th>Month</th>\n",
       "      <td>-0.156376</td>\n",
       "      <td>-0.157973</td>\n",
       "      <td>-0.154899</td>\n",
       "      <td>-0.156137</td>\n",
       "      <td>-0.156137</td>\n",
       "      <td>-0.078954</td>\n",
       "      <td>-0.754304</td>\n",
       "      <td>1.000000</td>\n",
       "      <td>-0.014616</td>\n",
       "    </tr>\n",
       "    <tr>\n",
       "      <th>Day</th>\n",
       "      <td>0.002171</td>\n",
       "      <td>0.002065</td>\n",
       "      <td>0.001827</td>\n",
       "      <td>0.001234</td>\n",
       "      <td>0.001234</td>\n",
       "      <td>-0.045236</td>\n",
       "      <td>0.020821</td>\n",
       "      <td>-0.014616</td>\n",
       "      <td>1.000000</td>\n",
       "    </tr>\n",
       "  </tbody>\n",
       "</table>\n",
       "</div>"
      ],
      "text/plain": [
       "               Open      High       Low     Close  Adj Close    Volume  \\\n",
       "Open       1.000000  0.999822  0.999739  0.999580   0.999580  0.225394   \n",
       "High       0.999822  1.000000  0.999788  0.999847   0.999847  0.230520   \n",
       "Low        0.999739  0.999788  1.000000  0.999840   0.999840  0.220893   \n",
       "Close      0.999580  0.999847  0.999840  1.000000   1.000000  0.225816   \n",
       "Adj Close  0.999580  0.999847  0.999840  1.000000   1.000000  0.225816   \n",
       "Volume     0.225394  0.230520  0.220893  0.225816   0.225816  1.000000   \n",
       "Year       0.282520  0.283257  0.283698  0.283790   0.283790 -0.159702   \n",
       "Month     -0.156376 -0.157973 -0.154899 -0.156137  -0.156137 -0.078954   \n",
       "Day        0.002171  0.002065  0.001827  0.001234   0.001234 -0.045236   \n",
       "\n",
       "               Year     Month       Day  \n",
       "Open       0.282520 -0.156376  0.002171  \n",
       "High       0.283257 -0.157973  0.002065  \n",
       "Low        0.283698 -0.154899  0.001827  \n",
       "Close      0.283790 -0.156137  0.001234  \n",
       "Adj Close  0.283790 -0.156137  0.001234  \n",
       "Volume    -0.159702 -0.078954 -0.045236  \n",
       "Year       1.000000 -0.754304  0.020821  \n",
       "Month     -0.754304  1.000000 -0.014616  \n",
       "Day        0.020821 -0.014616  1.000000  "
      ]
     },
     "execution_count": 62,
     "metadata": {},
     "output_type": "execute_result"
    }
   ],
   "source": [
    "data.corr()"
   ]
  },
  {
   "cell_type": "code",
   "execution_count": 64,
   "metadata": {},
   "outputs": [],
   "source": [
    "Data=data.drop(\"Adj Close\",axis=1)"
   ]
  },
  {
   "cell_type": "code",
   "execution_count": 66,
   "metadata": {},
   "outputs": [
    {
     "data": {
      "text/html": [
       "<div>\n",
       "<style scoped>\n",
       "    .dataframe tbody tr th:only-of-type {\n",
       "        vertical-align: middle;\n",
       "    }\n",
       "\n",
       "    .dataframe tbody tr th {\n",
       "        vertical-align: top;\n",
       "    }\n",
       "\n",
       "    .dataframe thead th {\n",
       "        text-align: right;\n",
       "    }\n",
       "</style>\n",
       "<table border=\"1\" class=\"dataframe\">\n",
       "  <thead>\n",
       "    <tr style=\"text-align: right;\">\n",
       "      <th></th>\n",
       "      <th>Open</th>\n",
       "      <th>High</th>\n",
       "      <th>Low</th>\n",
       "      <th>Close</th>\n",
       "      <th>Volume</th>\n",
       "      <th>Year</th>\n",
       "      <th>Month</th>\n",
       "      <th>Day</th>\n",
       "    </tr>\n",
       "  </thead>\n",
       "  <tbody>\n",
       "    <tr>\n",
       "      <th>0</th>\n",
       "      <td>135.699997</td>\n",
       "      <td>136.500000</td>\n",
       "      <td>132.600006</td>\n",
       "      <td>133.500000</td>\n",
       "      <td>1674311.0</td>\n",
       "      <td>2020</td>\n",
       "      <td>10</td>\n",
       "      <td>01</td>\n",
       "    </tr>\n",
       "    <tr>\n",
       "      <th>1</th>\n",
       "      <td>137.000000</td>\n",
       "      <td>137.500000</td>\n",
       "      <td>132.050003</td>\n",
       "      <td>133.899994</td>\n",
       "      <td>2800303.0</td>\n",
       "      <td>2020</td>\n",
       "      <td>10</td>\n",
       "      <td>05</td>\n",
       "    </tr>\n",
       "    <tr>\n",
       "      <th>3</th>\n",
       "      <td>144.100006</td>\n",
       "      <td>144.500000</td>\n",
       "      <td>139.800003</td>\n",
       "      <td>141.000000</td>\n",
       "      <td>4032654.0</td>\n",
       "      <td>2020</td>\n",
       "      <td>10</td>\n",
       "      <td>07</td>\n",
       "    </tr>\n",
       "    <tr>\n",
       "      <th>4</th>\n",
       "      <td>142.800003</td>\n",
       "      <td>143.350006</td>\n",
       "      <td>139.649994</td>\n",
       "      <td>140.899994</td>\n",
       "      <td>2491175.0</td>\n",
       "      <td>2020</td>\n",
       "      <td>10</td>\n",
       "      <td>08</td>\n",
       "    </tr>\n",
       "    <tr>\n",
       "      <th>5</th>\n",
       "      <td>141.399994</td>\n",
       "      <td>142.649994</td>\n",
       "      <td>138.000000</td>\n",
       "      <td>138.449997</td>\n",
       "      <td>1423879.0</td>\n",
       "      <td>2020</td>\n",
       "      <td>10</td>\n",
       "      <td>09</td>\n",
       "    </tr>\n",
       "  </tbody>\n",
       "</table>\n",
       "</div>"
      ],
      "text/plain": [
       "         Open        High         Low       Close     Volume  Year Month Day\n",
       "0  135.699997  136.500000  132.600006  133.500000  1674311.0  2020    10  01\n",
       "1  137.000000  137.500000  132.050003  133.899994  2800303.0  2020    10  05\n",
       "3  144.100006  144.500000  139.800003  141.000000  4032654.0  2020    10  07\n",
       "4  142.800003  143.350006  139.649994  140.899994  2491175.0  2020    10  08\n",
       "5  141.399994  142.649994  138.000000  138.449997  1423879.0  2020    10  09"
      ]
     },
     "execution_count": 66,
     "metadata": {},
     "output_type": "execute_result"
    }
   ],
   "source": [
    "Data.head()"
   ]
  },
  {
   "cell_type": "code",
   "execution_count": 68,
   "metadata": {},
   "outputs": [],
   "source": [
    "Data.to_csv(\"TATA_DATA.csv\")"
   ]
  },
  {
   "cell_type": "code",
   "execution_count": null,
   "metadata": {},
   "outputs": [],
   "source": []
  }
 ],
 "metadata": {
  "kernelspec": {
   "display_name": "myenv",
   "language": "python",
   "name": "myenv"
  },
  "language_info": {
   "codemirror_mode": {
    "name": "ipython",
    "version": 3
   },
   "file_extension": ".py",
   "mimetype": "text/x-python",
   "name": "python",
   "nbconvert_exporter": "python",
   "pygments_lexer": "ipython3",
   "version": "3.8.0"
  },
  "orig_nbformat": 4
 },
 "nbformat": 4,
 "nbformat_minor": 2
}
